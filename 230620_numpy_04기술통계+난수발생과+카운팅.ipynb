{
  "nbformat": 4,
  "nbformat_minor": 0,
  "metadata": {
    "colab": {
      "provenance": [],
      "toc_visible": true,
      "include_colab_link": true
    },
    "kernelspec": {
      "name": "python3",
      "display_name": "Python 3"
    },
    "language_info": {
      "name": "python"
    }
  },
  "cells": [
    {
      "cell_type": "markdown",
      "metadata": {
        "id": "view-in-github",
        "colab_type": "text"
      },
      "source": [
        "<a href=\"https://colab.research.google.com/github/kmk3058/playdata_python_basic/blob/master/230620_numpy_04%EA%B8%B0%EC%88%A0%ED%86%B5%EA%B3%84%2B%EB%82%9C%EC%88%98%EB%B0%9C%EC%83%9D%EA%B3%BC%2B%EC%B9%B4%EC%9A%B4%ED%8C%85.ipynb\" target=\"_parent\"><img src=\"https://colab.research.google.com/assets/colab-badge.svg\" alt=\"Open In Colab\"/></a>"
      ]
    },
    {
      "cell_type": "markdown",
      "source": [
        "# 기술 통계"
      ],
      "metadata": {
        "id": "tqxkhX-JFimj"
      }
    },
    {
      "cell_type": "markdown",
      "source": [
        "## 기술 통계(descriptive statistics)\n",
        "> 데이터 집합에 대해 통계를 계산\n",
        "* 데이터의 개수(count)\n",
        "* 평균(mean, average)\n",
        "* 분산(variance)\n",
        "* 표준 편차(standard deviation)\n",
        "* 최댓값(maximum)\n",
        "* 최솟값(minimum)\n",
        "* 중앙값(median)\n",
        "* 사분위수(quartile)"
      ],
      "metadata": {
        "id": "gchQwkseFsUX"
      }
    },
    {
      "cell_type": "markdown",
      "source": [
        "## 데이터의 개수"
      ],
      "metadata": {
        "id": "5bzioyHoF557"
      }
    },
    {
      "cell_type": "code",
      "source": [
        "import numpy as np"
      ],
      "metadata": {
        "id": "WaR__JCUOAaa"
      },
      "execution_count": null,
      "outputs": []
    },
    {
      "cell_type": "code",
      "source": [
        "a = np.array(range(10, 100, 2))\n",
        "len(a)"
      ],
      "metadata": {
        "colab": {
          "base_uri": "https://localhost:8080/"
        },
        "id": "wlTrzCbKFl4j",
        "outputId": "562a08f9-71d8-4459-f31e-cbd955c2e38d"
      },
      "execution_count": null,
      "outputs": [
        {
          "output_type": "execute_result",
          "data": {
            "text/plain": [
              "45"
            ]
          },
          "metadata": {},
          "execution_count": 4
        }
      ]
    },
    {
      "cell_type": "markdown",
      "source": [
        "## 표본 평균\n",
        "* 우리가 일반적으로 아는 평균\n",
        "* 통계용어로는 표본 평균(sample average, sample mean)\n",
        "<br>\n",
        "$\n",
        "\\bar{x} = \\frac{1}{N}\\displaystyle\\sum_{i=1}^{N}{x_i}\n",
        "$\n",
        "(𝑁은 데이터의 개수)"
      ],
      "metadata": {
        "id": "3xe5u1nkGBgM"
      }
    },
    {
      "cell_type": "code",
      "source": [
        "np.mean(a), a.mean()"
      ],
      "metadata": {
        "colab": {
          "base_uri": "https://localhost:8080/"
        },
        "id": "SiQn6qJlF_Y_",
        "outputId": "6e391819-ab71-4273-91bf-fee1120e0d81"
      },
      "execution_count": null,
      "outputs": [
        {
          "output_type": "execute_result",
          "data": {
            "text/plain": [
              "(54.0, 54.0)"
            ]
          },
          "metadata": {},
          "execution_count": 5
        }
      ]
    },
    {
      "cell_type": "markdown",
      "source": [
        "## 표본 분산\n",
        "* 표본 분산(sample variance) : 데이터와 표본 평균간의 거리의 제곱의 평균\n",
        "* 표본 분산이 작으면 데이터가 모여있는 것이고 크면 흩어져 있는 것\n",
        "<br>\n",
        "$\n",
        "s^2 = \\frac{1}{N}\\displaystyle\\sum_{i=1}^{N}{(x_i-\\bar{x})^2}\n",
        "$"
      ],
      "metadata": {
        "id": "sMmBl-uLHWwF"
      }
    },
    {
      "cell_type": "code",
      "source": [
        "np.var(a), a.var()"
      ],
      "metadata": {
        "colab": {
          "base_uri": "https://localhost:8080/"
        },
        "id": "ukbJg498HWZG",
        "outputId": "8d552513-313b-405f-fc14-67dcc018b259"
      },
      "execution_count": null,
      "outputs": [
        {
          "output_type": "execute_result",
          "data": {
            "text/plain": [
              "(674.6666666666666, 674.6666666666666)"
            ]
          },
          "metadata": {},
          "execution_count": 6
        }
      ]
    },
    {
      "cell_type": "markdown",
      "source": [
        "## 표본 표준편차\n",
        "* 표본 표준편차(sample standard variance) : 표본 분산의 양의 제곱근 값\n",
        "<br>\n",
        "$\n",
        "s = \\sqrt{s^2}\n",
        "$"
      ],
      "metadata": {
        "id": "ox3H6KB8H4Hd"
      }
    },
    {
      "cell_type": "code",
      "source": [
        "np.std(a), a.std()"
      ],
      "metadata": {
        "colab": {
          "base_uri": "https://localhost:8080/"
        },
        "id": "ESjtI9K9HP8g",
        "outputId": "d40ce6f6-cb5f-476e-c752-23cf5ec0ed3c"
      },
      "execution_count": null,
      "outputs": [
        {
          "output_type": "execute_result",
          "data": {
            "text/plain": [
              "(25.974346318370873, 25.974346318370873)"
            ]
          },
          "metadata": {},
          "execution_count": 7
        }
      ]
    },
    {
      "cell_type": "markdown",
      "source": [
        "## 최댓값과 최솟값"
      ],
      "metadata": {
        "id": "68MH4LSRINEC"
      }
    },
    {
      "cell_type": "code",
      "source": [
        "# 최댓값 (maximum) / 최솟값 (minimum)\n",
        "np.max(a), a.max()"
      ],
      "metadata": {
        "colab": {
          "base_uri": "https://localhost:8080/"
        },
        "id": "E-KkdiALIPvE",
        "outputId": "a61bc2d7-ed78-490e-96d3-f518a661b302"
      },
      "execution_count": null,
      "outputs": [
        {
          "output_type": "execute_result",
          "data": {
            "text/plain": [
              "(98, 98)"
            ]
          },
          "metadata": {},
          "execution_count": 8
        }
      ]
    },
    {
      "cell_type": "markdown",
      "source": [
        "## 중앙값\n",
        "* 중앙값(median) : 데이터를 크기대로 정렬하였을 때 가장 가운데에 있는 수\n",
        "* 만약 데이터의 수가 짝수이면 가장 가운데에 있는 두 수의 평균을 사용\n"
      ],
      "metadata": {
        "id": "vGgHFClPIWQV"
      }
    },
    {
      "cell_type": "code",
      "source": [
        "np.median(a)"
      ],
      "metadata": {
        "colab": {
          "base_uri": "https://localhost:8080/"
        },
        "id": "LS2P0zPnIUvN",
        "outputId": "937d1d50-50ed-4c8c-b468-aee49bc49283"
      },
      "execution_count": null,
      "outputs": [
        {
          "output_type": "execute_result",
          "data": {
            "text/plain": [
              "54.0"
            ]
          },
          "metadata": {},
          "execution_count": 12
        }
      ]
    },
    {
      "cell_type": "markdown",
      "source": [
        "## 사분위수\n",
        "* 사분위수(quartile) : 데이터를 가장 작은 수부터 가장 큰 수까지 크기가 커지는 순서대로 정렬하였을 때 1/4, 2/4, 3/4 위치에 있는 수\n",
        "* 각각 1사분위수, 2사분위수, 3사분위수라고 함\n",
        "* 1/4의 위치란 전체 데이터의 수가 만약 100개이면 25번째 순서, 즉 하위 25%\n",
        "* 따라서 2사분위수는 중앙값과 같음\n",
        "* 때로는 위치를 1/100 단위로 나눈 백분위수(percentile)을 사용하기도 함\n",
        "* 1사분위수는 25% 백분위수와 같음\n"
      ],
      "metadata": {
        "id": "b1pLnirSIfsI"
      }
    },
    {
      "cell_type": "code",
      "source": [
        "np.percentile(a, 0) # 최솟값, min"
      ],
      "metadata": {
        "colab": {
          "base_uri": "https://localhost:8080/"
        },
        "id": "EHTZ62T8Ici8",
        "outputId": "ca3ec1bc-2131-4086-d959-f2798660b930"
      },
      "execution_count": null,
      "outputs": [
        {
          "output_type": "execute_result",
          "data": {
            "text/plain": [
              "10.0"
            ]
          },
          "metadata": {},
          "execution_count": 14
        }
      ]
    },
    {
      "cell_type": "code",
      "source": [
        "np.percentile(a, 25) # 25% 백분위수, 1사분위수"
      ],
      "metadata": {
        "colab": {
          "base_uri": "https://localhost:8080/"
        },
        "id": "h8tVnPH6Ixcv",
        "outputId": "c35cc317-8f44-4d9b-a718-f75c2247f81d"
      },
      "execution_count": null,
      "outputs": [
        {
          "output_type": "execute_result",
          "data": {
            "text/plain": [
              "32.0"
            ]
          },
          "metadata": {},
          "execution_count": 16
        }
      ]
    },
    {
      "cell_type": "code",
      "source": [
        "np.percentile(a, 50) # 50% 백분위수, 2사분위수, 중앙값"
      ],
      "metadata": {
        "colab": {
          "base_uri": "https://localhost:8080/"
        },
        "id": "PuT1HTElIza1",
        "outputId": "ff73996d-0b38-4671-fc0f-5be183dd74ac"
      },
      "execution_count": null,
      "outputs": [
        {
          "output_type": "execute_result",
          "data": {
            "text/plain": [
              "54.0"
            ]
          },
          "metadata": {},
          "execution_count": 17
        }
      ]
    },
    {
      "cell_type": "code",
      "source": [
        "np.percentile(a, 75) # 75% 백분위수, 3사분위수"
      ],
      "metadata": {
        "colab": {
          "base_uri": "https://localhost:8080/"
        },
        "id": "v7wB_7N_I0zM",
        "outputId": "8ea48719-5b1a-46bb-9611-c7c005c78354"
      },
      "execution_count": null,
      "outputs": [
        {
          "output_type": "execute_result",
          "data": {
            "text/plain": [
              "76.0"
            ]
          },
          "metadata": {},
          "execution_count": 18
        }
      ]
    },
    {
      "cell_type": "code",
      "source": [
        "np.percentile(a, 100) # 100% 백분위수, 4사분위수"
      ],
      "metadata": {
        "colab": {
          "base_uri": "https://localhost:8080/"
        },
        "id": "JbCd4SqGI20l",
        "outputId": "9b7366f5-54d5-4723-c27e-f2fe6686ce30"
      },
      "execution_count": null,
      "outputs": [
        {
          "output_type": "execute_result",
          "data": {
            "text/plain": [
              "98.0"
            ]
          },
          "metadata": {},
          "execution_count": 19
        }
      ]
    },
    {
      "cell_type": "markdown",
      "source": [
        "# 난수 발생과 카운팅"
      ],
      "metadata": {
        "id": "x1uZuajeI9Si"
      }
    },
    {
      "cell_type": "markdown",
      "source": [
        "## 시드 설정\n",
        "* 컴퓨터 프로그램에서 발생하는 무작위 수는 사실 엄격한 의미의 무작위 수가 아님\n",
        "* 어떤 특정한 시작 숫자를 정해 주면 컴퓨터가 정해진 알고리즘에 의해 마치 난수처럼 보이는 수열을 생성. 이런 시작 숫자를 시드(seed)라고 함\n",
        "* 일단 생성된 난수는 다음번 난수 생성을 위한 시드값이 됨. 따라서 시드값은 한 번만 정해주면 됨.\n",
        "* 시드는 보통 현재 시각 등을 이용하여 자동으로 정해지지만 사람이 수동으로 설정할 수도 있음 * 특정한 시드값이 사용되면 그 다음에 만들어지는 난수들은 모두 예측할 수 있음\n",
        "* 고정된 결과를 얻기 위해서 실습엔 시드를 설정"
      ],
      "metadata": {
        "id": "ZCEj6C5UJHHc"
      }
    },
    {
      "cell_type": "code",
      "source": [
        "np.random.seed(0) # 시드값 고정"
      ],
      "metadata": {
        "id": "R9wwclqfI8_9"
      },
      "execution_count": null,
      "outputs": []
    },
    {
      "cell_type": "markdown",
      "source": [
        "### `rand` : 0과 1 사이의 난수를 발생"
      ],
      "metadata": {
        "id": "OQRCx_xUJf6l"
      }
    },
    {
      "cell_type": "code",
      "source": [
        "np.random.rand(5) # rand(n) : n개의 길이를 가지는 배열에 각각 0-1 사이의 난수를 채워줌"
      ],
      "metadata": {
        "colab": {
          "base_uri": "https://localhost:8080/"
        },
        "id": "w26duH5TJb7f",
        "outputId": "0d39efba-7141-4c40-e89d-5cb9066a0511"
      },
      "execution_count": null,
      "outputs": [
        {
          "output_type": "execute_result",
          "data": {
            "text/plain": [
              "array([0.5488135 , 0.71518937, 0.60276338, 0.54488318, 0.4236548 ])"
            ]
          },
          "metadata": {},
          "execution_count": 21
        }
      ]
    },
    {
      "cell_type": "code",
      "source": [
        "np.random.rand(10)"
      ],
      "metadata": {
        "colab": {
          "base_uri": "https://localhost:8080/"
        },
        "id": "bnSQUYKVJkl8",
        "outputId": "3d6ebc6a-273a-44dc-f442-3010ac99645d"
      },
      "execution_count": null,
      "outputs": [
        {
          "output_type": "execute_result",
          "data": {
            "text/plain": [
              "array([0.64589411, 0.43758721, 0.891773  , 0.96366276, 0.38344152,\n",
              "       0.79172504, 0.52889492, 0.56804456, 0.92559664, 0.07103606])"
            ]
          },
          "metadata": {},
          "execution_count": 22
        }
      ]
    },
    {
      "cell_type": "markdown",
      "source": [
        "## 데이터의 순서 변경"
      ],
      "metadata": {
        "id": "TvJHX9FmJtgQ"
      }
    },
    {
      "cell_type": "markdown",
      "source": [
        "### `shuffle`\n",
        "* 데이터의 순서를 변경\n",
        "* 자체 변환(in-place) 함수 (원본에 영향)"
      ],
      "metadata": {
        "id": "89jdzc8rJyqB"
      }
    },
    {
      "cell_type": "code",
      "source": [
        "x = np.arange(10)\n",
        "x"
      ],
      "metadata": {
        "colab": {
          "base_uri": "https://localhost:8080/"
        },
        "id": "vUHakdiQJpjl",
        "outputId": "a11868e1-c00f-4a9f-be15-8c1d24c0b602"
      },
      "execution_count": null,
      "outputs": [
        {
          "output_type": "execute_result",
          "data": {
            "text/plain": [
              "array([0, 1, 2, 3, 4, 5, 6, 7, 8, 9])"
            ]
          },
          "metadata": {},
          "execution_count": 23
        }
      ]
    },
    {
      "cell_type": "code",
      "source": [
        "np.random.shuffle(x) # x를 섞어줌 -> x 자체를 섞어버림"
      ],
      "metadata": {
        "id": "ReqSVnNlJ7S0"
      },
      "execution_count": null,
      "outputs": []
    },
    {
      "cell_type": "code",
      "source": [
        "x"
      ],
      "metadata": {
        "colab": {
          "base_uri": "https://localhost:8080/"
        },
        "id": "9r8iL3lyRYr8",
        "outputId": "cc75f366-1d39-4c2e-f37c-b09045129ec6"
      },
      "execution_count": null,
      "outputs": [
        {
          "output_type": "execute_result",
          "data": {
            "text/plain": [
              "array([5, 1, 8, 2, 6, 7, 0, 3, 4, 9])"
            ]
          },
          "metadata": {},
          "execution_count": 25
        }
      ]
    },
    {
      "cell_type": "markdown",
      "source": [
        "## 데이터 샘플링\n",
        "* 표본선택 혹은 샘플링(sampling) : 이미 있는 데이터 집합에서 일부를 무작위로 선택하는 것"
      ],
      "metadata": {
        "id": "MbQrSKXMKJAg"
      }
    },
    {
      "cell_type": "markdown",
      "source": [
        "### `choice` : 샘플링에 사용\n",
        "```\n",
        "numpy.random.choice(a, size=None, replace=True, p=None)\n",
        "```\n",
        "* a : 배열이면 원래의 데이터, 정수이면 arange(a) 명령으로 데이터 생성\n",
        "* size : 정수. 샘플 숫자\n",
        "* replace : 불리언. True이면 한번 선택한 데이터를 다시 선택 가능 (복원/비복원 추출)\n",
        "* p : 배열. 각 데이터가 선택될 수 있는 확률"
      ],
      "metadata": {
        "id": "gEkehbizKWrq"
      }
    },
    {
      "cell_type": "code",
      "source": [
        "np.random.choice(5, 5, replace=False) # 5개 중에 5개를 선택하는 비복원 / shuffle"
      ],
      "metadata": {
        "colab": {
          "base_uri": "https://localhost:8080/"
        },
        "id": "YvjoHXqIJ9KJ",
        "outputId": "810d07e1-0f1c-4d40-eca1-fe15fed0a522"
      },
      "execution_count": null,
      "outputs": [
        {
          "output_type": "execute_result",
          "data": {
            "text/plain": [
              "array([0, 4, 2, 1, 3])"
            ]
          },
          "metadata": {},
          "execution_count": 26
        }
      ]
    },
    {
      "cell_type": "code",
      "source": [
        "np.random.choice(5, 3, replace=False) # 5개 중에 3개를 선택하는 비복원 / shuffle"
      ],
      "metadata": {
        "colab": {
          "base_uri": "https://localhost:8080/"
        },
        "id": "knplEnwIKnYh",
        "outputId": "1c9c620e-2160-426a-efd3-25865715a137"
      },
      "execution_count": null,
      "outputs": [
        {
          "output_type": "execute_result",
          "data": {
            "text/plain": [
              "array([4, 2, 3])"
            ]
          },
          "metadata": {},
          "execution_count": 27
        }
      ]
    },
    {
      "cell_type": "code",
      "source": [
        "np.random.choice(5, 10, replace=True) # 5개 중에 10개를 선택하는 복원"
      ],
      "metadata": {
        "colab": {
          "base_uri": "https://localhost:8080/"
        },
        "id": "4Yd_3i6QKqMw",
        "outputId": "0cb923ed-f2ac-4b2f-da68-d287d4ba486f"
      },
      "execution_count": null,
      "outputs": [
        {
          "output_type": "execute_result",
          "data": {
            "text/plain": [
              "array([0, 2, 4, 3, 3, 2, 4, 2, 0, 0])"
            ]
          },
          "metadata": {},
          "execution_count": 29
        }
      ]
    },
    {
      "cell_type": "code",
      "source": [
        "# [0, 1, 2, 3, 4]\n",
        "np.random.choice(5, 10, replace=True, p=[0.1, 0, 0.3, 0.6, 0]) # 복원 5개 중에 10개를 선택"
      ],
      "metadata": {
        "colab": {
          "base_uri": "https://localhost:8080/"
        },
        "id": "lkbuDYTuKvBN",
        "outputId": "3b063d8b-583a-468d-e6a9-d1f2c5f0060e"
      },
      "execution_count": null,
      "outputs": [
        {
          "output_type": "execute_result",
          "data": {
            "text/plain": [
              "array([2, 2, 2, 2, 3, 3, 3, 3, 0, 3])"
            ]
          },
          "metadata": {},
          "execution_count": 30
        }
      ]
    },
    {
      "cell_type": "markdown",
      "source": [
        "## 난수 생성\n",
        "* `rand` : 0부터 1 사이의 균일 분포\n",
        "* `randn` : 표준 정규 분포\n",
        "* `randint` : 균일 분포의 정수 난수"
      ],
      "metadata": {
        "id": "D8oZhgNLLCgd"
      }
    },
    {
      "cell_type": "markdown",
      "source": [
        "### `rand` : 0부터 1 사이에서 균일한 확률 분포로 실수 난수를 생성\n",
        "* 숫자 인수는 생성할 난수의 크기\n",
        "* 여러 개의 인수를 넣으면 해당 크기를 가진 행렬을 생성"
      ],
      "metadata": {
        "id": "BcH0M0-_LPMP"
      }
    },
    {
      "cell_type": "code",
      "source": [
        "np.random.rand(10)"
      ],
      "metadata": {
        "colab": {
          "base_uri": "https://localhost:8080/"
        },
        "id": "EWqs3z-zK0k_",
        "outputId": "be53ec8f-06df-4ce7-a40a-fd5ef568db27"
      },
      "execution_count": null,
      "outputs": [
        {
          "output_type": "execute_result",
          "data": {
            "text/plain": [
              "array([0.65314004, 0.17090959, 0.35815217, 0.75068614, 0.60783067,\n",
              "       0.32504723, 0.03842543, 0.63427406, 0.95894927, 0.65279032])"
            ]
          },
          "metadata": {},
          "execution_count": 31
        }
      ]
    },
    {
      "cell_type": "code",
      "source": [
        "np.random.rand(3, 5)"
      ],
      "metadata": {
        "colab": {
          "base_uri": "https://localhost:8080/"
        },
        "id": "DJTNzp8oLbVj",
        "outputId": "9aaf9588-7940-4926-dcde-56cc119d7593"
      },
      "execution_count": null,
      "outputs": [
        {
          "output_type": "execute_result",
          "data": {
            "text/plain": [
              "array([[0.63505887, 0.99529957, 0.58185033, 0.41436859, 0.4746975 ],\n",
              "       [0.6235101 , 0.33800761, 0.67475232, 0.31720174, 0.77834548],\n",
              "       [0.94957105, 0.66252687, 0.01357164, 0.6228461 , 0.67365963]])"
            ]
          },
          "metadata": {},
          "execution_count": 32
        }
      ]
    },
    {
      "cell_type": "markdown",
      "source": [
        "### `randn` : 기댓값이 0이고 표준편차가 1인 표준 정규 분포(standard normal distribution)를 따르는 난수를 생성"
      ],
      "metadata": {
        "id": "HdWD5uVkLjQt"
      }
    },
    {
      "cell_type": "code",
      "source": [
        "np.random.randn(10)"
      ],
      "metadata": {
        "colab": {
          "base_uri": "https://localhost:8080/"
        },
        "id": "AlJYbewHLeZB",
        "outputId": "dacadb9c-509e-4f11-afd8-fc3372a242a1"
      },
      "execution_count": null,
      "outputs": [
        {
          "output_type": "execute_result",
          "data": {
            "text/plain": [
              "array([-0.68658948,  0.01487332, -0.3756659 , -0.03822364,  0.36797447,\n",
              "       -0.0447237 , -0.30237513, -2.2244036 ,  0.72400636,  0.35900276])"
            ]
          },
          "metadata": {},
          "execution_count": 33
        }
      ]
    },
    {
      "cell_type": "code",
      "source": [
        "np.random.randn(3, 5)"
      ],
      "metadata": {
        "colab": {
          "base_uri": "https://localhost:8080/"
        },
        "id": "gbDMC1OxLt3f",
        "outputId": "ba26d18f-3ed3-4c3d-8507-e448f0f25012"
      },
      "execution_count": null,
      "outputs": [
        {
          "output_type": "execute_result",
          "data": {
            "text/plain": [
              "array([[ 1.07612104,  0.19214083,  0.85292596,  0.01835718,  0.42830357],\n",
              "       [ 0.99627783, -0.49114966,  0.71267817,  1.11334035, -2.15367459],\n",
              "       [-0.41611148, -1.07089699,  0.22113881, -1.12305712, -1.05075796]])"
            ]
          },
          "metadata": {},
          "execution_count": 34
        }
      ]
    },
    {
      "cell_type": "markdown",
      "source": [
        "### `randint`\n",
        "```\n",
        "numpy.random.randint(low, high=None, size=None)\n",
        "```\n",
        "만약 `high`를 입력하지 않으면 0과 `low`사이의 숫자, `high`를 입력하면 `low`와 `high`는 사이의 숫자를 출력. `size`는 난수의 숫자"
      ],
      "metadata": {
        "id": "FDtGkcnjLzTM"
      }
    },
    {
      "cell_type": "code",
      "source": [
        "np.random.randint(10) # 최댓값 -> 그것보다 작은 범위에서의 랜덤 숫자"
      ],
      "metadata": {
        "colab": {
          "base_uri": "https://localhost:8080/"
        },
        "id": "H5eTlhBGLy_D",
        "outputId": "d0c73c71-7eec-4415-dab4-655dcebf435e"
      },
      "execution_count": null,
      "outputs": [
        {
          "output_type": "execute_result",
          "data": {
            "text/plain": [
              "0"
            ]
          },
          "metadata": {},
          "execution_count": 35
        }
      ]
    },
    {
      "cell_type": "code",
      "source": [
        "np.random.randint(10, size=10) # 시작점"
      ],
      "metadata": {
        "colab": {
          "base_uri": "https://localhost:8080/"
        },
        "id": "xlpHLyNALuyj",
        "outputId": "a02def38-b0d8-4ac0-d622-770ef67b7f91"
      },
      "execution_count": null,
      "outputs": [
        {
          "output_type": "execute_result",
          "data": {
            "text/plain": [
              "array([8, 8, 3, 8, 2, 8, 4, 3, 0, 4])"
            ]
          },
          "metadata": {},
          "execution_count": 36
        }
      ]
    },
    {
      "cell_type": "code",
      "source": [
        "np.random.randint(10, 20, size=(3,5))"
      ],
      "metadata": {
        "colab": {
          "base_uri": "https://localhost:8080/"
        },
        "id": "RwOU04I2ME1f",
        "outputId": "ef71e871-92c8-4f10-cd15-b883a523bafc"
      },
      "execution_count": null,
      "outputs": [
        {
          "output_type": "execute_result",
          "data": {
            "text/plain": [
              "array([[13, 16, 19, 18, 10],\n",
              "       [18, 15, 19, 10, 19],\n",
              "       [16, 15, 13, 11, 18]])"
            ]
          },
          "metadata": {},
          "execution_count": 37
        }
      ]
    },
    {
      "cell_type": "markdown",
      "source": [
        "## 💡 연습문제 7\n",
        "1. 동전을 10번 던져 앞면(숫자 1)과 뒷면(숫자 0)이 나오는 가상 실험을 작성하라\n",
        "2. 주사위를 100번 던져서 나오는 숫자의 평균\n",
        "3. 가격이 10,000원인 주식이 있다. 이 주식의 일간 수익률(%)은 기댓값이 0%이고 표준편차가 1%인 표준 정규 분포를 따른다고 하자. 250일 동안의 주가를 무작위로 생성하라"
      ],
      "metadata": {
        "id": "dCofCh17MOVI"
      }
    },
    {
      "cell_type": "code",
      "source": [
        "np.random.choice([\"앞\", \"뒤\"], size=10, replace=True)"
      ],
      "metadata": {
        "colab": {
          "base_uri": "https://localhost:8080/"
        },
        "id": "LXlLYTExVQLt",
        "outputId": "841e0f10-371e-42f9-d91f-c71ff31ff072"
      },
      "execution_count": null,
      "outputs": [
        {
          "output_type": "execute_result",
          "data": {
            "text/plain": [
              "array(['뒤', '앞', '앞', '뒤', '뒤', '뒤', '앞', '뒤', '앞', '뒤'], dtype='<U1')"
            ]
          },
          "metadata": {},
          "execution_count": 63
        }
      ]
    },
    {
      "cell_type": "code",
      "source": [
        "# 2.\n",
        "dice_number = np.random.randint(1, 7, size=100)\n",
        "dice_number, dice_number.mean()"
      ],
      "metadata": {
        "colab": {
          "base_uri": "https://localhost:8080/"
        },
        "id": "rpstIcwsNB-3",
        "outputId": "1964dd45-7bf5-48db-a87f-d11e95450143"
      },
      "execution_count": null,
      "outputs": [
        {
          "output_type": "execute_result",
          "data": {
            "text/plain": [
              "(array([6, 5, 1, 3, 6, 1, 1, 1, 5, 4, 6, 6, 6, 2, 3, 3, 1, 2, 4, 2, 2, 3,\n",
              "        5, 1, 5, 6, 3, 2, 1, 4, 4, 2, 5, 5, 1, 6, 3, 5, 4, 4, 4, 6, 5, 2,\n",
              "        5, 5, 1, 3, 6, 5, 5, 3, 4, 6, 3, 5, 2, 1, 1, 3, 3, 4, 1, 3, 6, 5,\n",
              "        5, 2, 6, 2, 6, 3, 4, 4, 4, 6, 4, 1, 6, 6, 4, 2, 6, 2, 6, 1, 3, 5,\n",
              "        2, 2, 6, 1, 2, 5, 1, 4, 4, 4, 5, 3]),\n",
              " 3.63)"
            ]
          },
          "metadata": {},
          "execution_count": 65
        }
      ]
    },
    {
      "cell_type": "code",
      "source": [
        "price = 10000\n",
        "percent = np.random.randn(250) / 100"
      ],
      "metadata": {
        "id": "hIEU8RpYXoK6"
      },
      "execution_count": null,
      "outputs": []
    },
    {
      "cell_type": "code",
      "source": [
        "start = 10000\n",
        "price = np.empty(250)\n",
        "for i, v in enumerate(a):  # a -> 가격이 0의 기댓값, 1%의 표준편차를 바탕으로 250일치의 변화율이 생성\n",
        "   start *= (1 + v) # i = index, v = 변화율\n",
        "   price[i] = start"
      ],
      "metadata": {
        "colab": {
          "base_uri": "https://localhost:8080/"
        },
        "id": "8vs9iAD3bEoj",
        "outputId": "7d69e376-fc54-45f5-9931-525baca6018a"
      },
      "execution_count": null,
      "outputs": [
        {
          "output_type": "stream",
          "name": "stderr",
          "text": [
            "<ipython-input-67-fc4c41633a5a>:4: RuntimeWarning: overflow encountered in long_scalars\n",
            "  start *= (1 + v) # i = index, v = 변화율\n"
          ]
        }
      ]
    },
    {
      "cell_type": "code",
      "source": [
        "price"
      ],
      "metadata": {
        "colab": {
          "base_uri": "https://localhost:8080/"
        },
        "id": "RBH3J5EEbERT",
        "outputId": "e3da3059-8299-4419-836d-8706a75cf610"
      },
      "execution_count": null,
      "outputs": [
        {
          "output_type": "execute_result",
          "data": {
            "text/plain": [
              "array([ 1.10000000e+005,  1.43000000e+006,  2.14500000e+007,\n",
              "        3.64650000e+008,  6.92835000e+009,  1.45495350e+011,\n",
              "        3.34639305e+012,  8.36598262e+013,  2.25881531e+015,\n",
              "        6.55056440e+016,  2.03067496e+018, -6.77470253e+018,\n",
              "        2.69308440e+018,  7.41040254e+018, -6.14220616e+018,\n",
              "        6.42396448e+018, -4.70688456e+017, -2.73423645e+018,\n",
              "        6.18095357e+017, -6.60681563e+018, -4.90620385e+018,\n",
              "       -1.77438697e+018, -5.35756300e+018,  8.21355823e+018,\n",
              "        4.98458987e+018,  8.91207680e+018,  8.05851611e+018,\n",
              "        7.29471298e+018,  9.13042374e+018,  2.80993921e+018,\n",
              "       -3.40850076e+018, -9.01288233e+018,  6.56335576e+018,\n",
              "        7.31630368e+018,  6.13892438e+018, -8.09214946e+017,\n",
              "        6.62213578e+018, -8.96752459e+018, -5.41138813e+018,\n",
              "       -1.99819789e+018,  2.63143274e+018,  4.91557173e+018,\n",
              "        5.81071216e+018, -8.20998643e+018, -1.13191757e+018,\n",
              "        0.00000000e+000,  6.89838110e-310,  5.39079969e+057,\n",
              "        0.00000000e+000,  0.00000000e+000,  0.00000000e+000,\n",
              "        0.00000000e+000,  0.00000000e+000,  0.00000000e+000,\n",
              "        0.00000000e+000,  0.00000000e+000,  0.00000000e+000,\n",
              "        0.00000000e+000,  0.00000000e+000,  0.00000000e+000,\n",
              "        0.00000000e+000,  0.00000000e+000,  0.00000000e+000,\n",
              "        0.00000000e+000,  0.00000000e+000,  0.00000000e+000,\n",
              "        0.00000000e+000,  0.00000000e+000,  0.00000000e+000,\n",
              "        0.00000000e+000,  0.00000000e+000,  0.00000000e+000,\n",
              "        0.00000000e+000,  0.00000000e+000,  0.00000000e+000,\n",
              "        0.00000000e+000,  0.00000000e+000,  0.00000000e+000,\n",
              "        0.00000000e+000,  0.00000000e+000,  0.00000000e+000,\n",
              "        0.00000000e+000,  0.00000000e+000,  0.00000000e+000,\n",
              "        6.89838104e-310, -2.76367127e-188,  0.00000000e+000,\n",
              "        0.00000000e+000,  0.00000000e+000,  0.00000000e+000,\n",
              "        0.00000000e+000,  0.00000000e+000,  6.89838110e-310,\n",
              "       -1.27107421e+040,  0.00000000e+000,  0.00000000e+000,\n",
              "        0.00000000e+000,  0.00000000e+000,  6.89838104e-310,\n",
              "        1.20742659e-033,  0.00000000e+000,  0.00000000e+000,\n",
              "        0.00000000e+000,  0.00000000e+000,  0.00000000e+000,\n",
              "        0.00000000e+000,  0.00000000e+000,  0.00000000e+000,\n",
              "        0.00000000e+000,  0.00000000e+000,  0.00000000e+000,\n",
              "        0.00000000e+000,  0.00000000e+000,  0.00000000e+000,\n",
              "        0.00000000e+000,  0.00000000e+000,  6.89838104e-310,\n",
              "        1.23529444e+005,  0.00000000e+000,  0.00000000e+000,\n",
              "        0.00000000e+000,  0.00000000e+000,  0.00000000e+000,\n",
              "        0.00000000e+000,  0.00000000e+000,  0.00000000e+000,\n",
              "        0.00000000e+000,  0.00000000e+000,  0.00000000e+000,\n",
              "        0.00000000e+000,  0.00000000e+000,  0.00000000e+000,\n",
              "        0.00000000e+000,  0.00000000e+000,  0.00000000e+000,\n",
              "        0.00000000e+000,  0.00000000e+000,  0.00000000e+000,\n",
              "        0.00000000e+000,  0.00000000e+000,  0.00000000e+000,\n",
              "        0.00000000e+000,  0.00000000e+000,  0.00000000e+000,\n",
              "        0.00000000e+000,  0.00000000e+000,  6.89838110e-310,\n",
              "       -1.01596181e+291,  0.00000000e+000,  0.00000000e+000,\n",
              "        0.00000000e+000,  0.00000000e+000,  0.00000000e+000,\n",
              "        0.00000000e+000,  0.00000000e+000,  0.00000000e+000,\n",
              "        0.00000000e+000,  0.00000000e+000,  0.00000000e+000,\n",
              "        0.00000000e+000,  0.00000000e+000,  0.00000000e+000,\n",
              "        0.00000000e+000,  0.00000000e+000,  0.00000000e+000,\n",
              "        0.00000000e+000,  0.00000000e+000,  0.00000000e+000,\n",
              "        6.89838103e-310,  4.48385062e-050,  0.00000000e+000,\n",
              "        0.00000000e+000,  0.00000000e+000,  0.00000000e+000,\n",
              "        6.89838104e-310,  5.62686730e-222,  0.00000000e+000,\n",
              "        0.00000000e+000,  0.00000000e+000,  0.00000000e+000,\n",
              "        0.00000000e+000,  0.00000000e+000,  0.00000000e+000,\n",
              "        0.00000000e+000,  0.00000000e+000,  0.00000000e+000,\n",
              "        0.00000000e+000,  0.00000000e+000,  0.00000000e+000,\n",
              "        0.00000000e+000,  0.00000000e+000,  0.00000000e+000,\n",
              "        0.00000000e+000,  0.00000000e+000,  0.00000000e+000,\n",
              "        0.00000000e+000,  0.00000000e+000,  0.00000000e+000,\n",
              "        0.00000000e+000,  0.00000000e+000,  6.89838104e-310,\n",
              "       -8.15500010e+044,  0.00000000e+000,  0.00000000e+000,\n",
              "        0.00000000e+000,  0.00000000e+000,  0.00000000e+000,\n",
              "        0.00000000e+000,  0.00000000e+000,  0.00000000e+000,\n",
              "        0.00000000e+000,  0.00000000e+000,  6.89838104e-310,\n",
              "       -7.48308578e+160,  0.00000000e+000,  0.00000000e+000,\n",
              "        0.00000000e+000,  0.00000000e+000,  0.00000000e+000,\n",
              "        0.00000000e+000,  0.00000000e+000,  0.00000000e+000,\n",
              "        0.00000000e+000,  0.00000000e+000,  0.00000000e+000,\n",
              "        0.00000000e+000,  0.00000000e+000,  0.00000000e+000,\n",
              "        0.00000000e+000,  0.00000000e+000,  0.00000000e+000,\n",
              "        0.00000000e+000,  0.00000000e+000,  0.00000000e+000,\n",
              "        6.89838103e-310, -2.17945911e-277,  6.89838091e-310,\n",
              "       -6.00295722e+049,  6.89838104e-310,  4.64633689e+101,\n",
              "        0.00000000e+000,  0.00000000e+000,  0.00000000e+000,\n",
              "        0.00000000e+000,  0.00000000e+000,  0.00000000e+000,\n",
              "        0.00000000e+000,  0.00000000e+000,  0.00000000e+000,\n",
              "        0.00000000e+000])"
            ]
          },
          "metadata": {},
          "execution_count": 68
        }
      ]
    },
    {
      "cell_type": "markdown",
      "source": [
        "## 정수 데이터 카운팅\n",
        "* 만약 난수가 정수값이면 unique 명령이나 bincount 명령으로 데이터 값을 분석"
      ],
      "metadata": {
        "id": "zc2junJdO2d8"
      }
    },
    {
      "cell_type": "markdown",
      "source": [
        "### `unique`\n",
        "* unique 함수는 데이터에서 중복된 값을 제거하고 중복되지 않는 값의 리스트를 출력\n",
        "* return_counts 인수를 True 로 설정하면 각 값을 가진 데이터 갯수도 출력\n"
      ],
      "metadata": {
        "id": "NQWG8zU8PJtG"
      }
    },
    {
      "cell_type": "code",
      "source": [
        "np.unique([11,11,2,2,34,34])"
      ],
      "metadata": {
        "colab": {
          "base_uri": "https://localhost:8080/"
        },
        "id": "Zy46ohsVPDJv",
        "outputId": "ffa3d4df-1ccc-4c25-a5d0-714125493c42"
      },
      "execution_count": null,
      "outputs": [
        {
          "output_type": "execute_result",
          "data": {
            "text/plain": [
              "array([ 2, 11, 34])"
            ]
          },
          "metadata": {},
          "execution_count": 69
        }
      ]
    },
    {
      "cell_type": "code",
      "source": [
        "a = np.array(list('abbca'))\n",
        "a"
      ],
      "metadata": {
        "id": "9l5BuLbwPPQF",
        "colab": {
          "base_uri": "https://localhost:8080/"
        },
        "outputId": "2509cbef-4781-4063-fe09-34e77ca6b22d"
      },
      "execution_count": null,
      "outputs": [
        {
          "output_type": "execute_result",
          "data": {
            "text/plain": [
              "array(['a', 'b', 'b', 'c', 'a'], dtype='<U1')"
            ]
          },
          "metadata": {},
          "execution_count": 72
        }
      ]
    },
    {
      "cell_type": "code",
      "source": [
        "np.unique(a, return_counts=True)"
      ],
      "metadata": {
        "colab": {
          "base_uri": "https://localhost:8080/"
        },
        "id": "kMLRdBasPQ4L",
        "outputId": "d329aa42-7cb5-454b-a925-09e06fbbcbc6"
      },
      "execution_count": null,
      "outputs": [
        {
          "output_type": "execute_result",
          "data": {
            "text/plain": [
              "(array(['a', 'b', 'c'], dtype='<U1'), array([2, 2, 1]))"
            ]
          },
          "metadata": {},
          "execution_count": 73
        }
      ]
    },
    {
      "cell_type": "code",
      "source": [
        "index, value = np.unique(a, return_counts=True)\n",
        "index, value"
      ],
      "metadata": {
        "colab": {
          "base_uri": "https://localhost:8080/"
        },
        "id": "Kpx6OGmoPRi1",
        "outputId": "7413d693-696c-4392-a64e-03d9e392f1de"
      },
      "execution_count": null,
      "outputs": [
        {
          "output_type": "execute_result",
          "data": {
            "text/plain": [
              "(array(['a', 'b', 'c'], dtype='<U1'), array([2, 2, 1]))"
            ]
          },
          "metadata": {},
          "execution_count": 74
        }
      ]
    },
    {
      "cell_type": "code",
      "source": [
        "list(zip(index, value))"
      ],
      "metadata": {
        "colab": {
          "base_uri": "https://localhost:8080/"
        },
        "id": "_sGgJ37odVQG",
        "outputId": "28c28417-adc8-44d5-c6fe-2e8b07d777c8"
      },
      "execution_count": null,
      "outputs": [
        {
          "output_type": "execute_result",
          "data": {
            "text/plain": [
              "[('a', 2), ('b', 2), ('c', 1)]"
            ]
          },
          "metadata": {},
          "execution_count": 75
        }
      ]
    },
    {
      "cell_type": "code",
      "source": [
        "dict(zip(*np.unique(a, return_counts=True)))"
      ],
      "metadata": {
        "colab": {
          "base_uri": "https://localhost:8080/"
        },
        "id": "g8H2nTV3d5HL",
        "outputId": "1574a637-7344-4809-a3e6-359db2c463ab"
      },
      "execution_count": null,
      "outputs": [
        {
          "output_type": "execute_result",
          "data": {
            "text/plain": [
              "{'a': 2, 'b': 2, 'c': 1}"
            ]
          },
          "metadata": {},
          "execution_count": 76
        }
      ]
    },
    {
      "cell_type": "markdown",
      "source": [
        "### `bincount`\n",
        "* `unique` 함수는 데이터에 존재하는 값에 대해서만 갯수를 세므로 데이터 값이 나올 수 있음에도 불구하고 데이터가 하나도 없는 경우에는 정보를 주지 않음\n",
        "* 따라서 데이터가 주사위를 던졌을 때 나오는 수처럼 특정 범위안의 수인 경우에는 `bincount` 함수에 `minlength` 인수를 설정하여 쓰는 것이 더 편리\n",
        "* `bincount` 함수는 0 부터 `minlength` - 1 까지의 숫자에 대해 각각 카운트\n",
        "* 데이터가 없을 경우에는 카운트 값이 0이 됨"
      ],
      "metadata": {
        "id": "GihAHqezPWii"
      }
    },
    {
      "cell_type": "code",
      "source": [
        "np.bincount([1, 1, 2, 2, 2, 3], minlength=6) # 1 = 2, 2 = 3, 3 = 1"
      ],
      "metadata": {
        "colab": {
          "base_uri": "https://localhost:8080/"
        },
        "id": "SWLVdyPEPmqk",
        "outputId": "61c7e288-c63d-4acb-aad8-bf8d114a5566"
      },
      "execution_count": null,
      "outputs": [
        {
          "output_type": "execute_result",
          "data": {
            "text/plain": [
              "array([0, 2, 3, 1, 0, 0])"
            ]
          },
          "metadata": {},
          "execution_count": 77
        }
      ]
    }
  ]
}